{
 "cells": [
  {
   "cell_type": "code",
   "execution_count": null,
   "id": "b8a39caf-1159-465a-b977-45facb10f81b",
   "metadata": {},
   "outputs": [],
   "source": [
    "%run my-trial/ocr_to_txt_fixed_content.py"
   ]
  },
  {
   "cell_type": "code",
   "execution_count": null,
   "id": "eb346068-5337-408d-a645-7f31e55ccc20",
   "metadata": {},
   "outputs": [],
   "source": []
  }
 ],
 "metadata": {
  "kernelspec": {
   "display_name": "Python 3 (ipykernel)",
   "language": "python",
   "name": "python3"
  },
  "language_info": {
   "codemirror_mode": {
    "name": "ipython",
    "version": 3
   },
   "file_extension": ".py",
   "mimetype": "text/x-python",
   "name": "python",
   "nbconvert_exporter": "python",
   "pygments_lexer": "ipython3",
   "version": "3.11.13"
  }
 },
 "nbformat": 4,
 "nbformat_minor": 5
}
